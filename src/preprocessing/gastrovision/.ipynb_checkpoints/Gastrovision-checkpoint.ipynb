{
 "cells": [
  {
   "cell_type": "code",
   "execution_count": 7,
   "metadata": {},
   "outputs": [],
   "source": [
    "import pandas as pd\n",
    "import os"
   ]
  },
  {
   "cell_type": "code",
   "execution_count": 17,
   "metadata": {},
   "outputs": [
    {
     "name": "stdout",
     "output_type": "stream",
     "text": [
      "C:\\Users\\mudas\\OneDrive\\Documents\\Desktop\\Plaksha\\Plaksha-Sem-4\\MLPR\\Project\\GastroCAD\\data\\metadata\\gastrovision.csv\n"
     ]
    }
   ],
   "source": [
    "file_path = '../../../data/metadata/gastrovision.csv'\n",
    "print(os.path.abspath(file_path))  "
   ]
  },
  {
   "cell_type": "code",
   "execution_count": 21,
   "metadata": {},
   "outputs": [],
   "source": [
    "df = pd.read_csv(file_path, header=None)  \n",
    "df.columns = [\"Filename\", \"Class\", \"Width\", \"Height\", \"Size (kB)\"]\n"
   ]
  },
  {
   "cell_type": "code",
   "execution_count": 23,
   "metadata": {},
   "outputs": [
    {
     "data": {
      "text/html": [
       "<div>\n",
       "<style scoped>\n",
       "    .dataframe tbody tr th:only-of-type {\n",
       "        vertical-align: middle;\n",
       "    }\n",
       "\n",
       "    .dataframe tbody tr th {\n",
       "        vertical-align: top;\n",
       "    }\n",
       "\n",
       "    .dataframe thead th {\n",
       "        text-align: right;\n",
       "    }\n",
       "</style>\n",
       "<table border=\"1\" class=\"dataframe\">\n",
       "  <thead>\n",
       "    <tr style=\"text-align: right;\">\n",
       "      <th></th>\n",
       "      <th>Filename</th>\n",
       "      <th>Class</th>\n",
       "      <th>Width</th>\n",
       "      <th>Height</th>\n",
       "      <th>Size (kB)</th>\n",
       "    </tr>\n",
       "  </thead>\n",
       "  <tbody>\n",
       "    <tr>\n",
       "      <th>0</th>\n",
       "      <td>Filename</td>\n",
       "      <td>Class</td>\n",
       "      <td>Width</td>\n",
       "      <td>Height</td>\n",
       "      <td>Size (kB)</td>\n",
       "    </tr>\n",
       "    <tr>\n",
       "      <th>1</th>\n",
       "      <td>1a8df39f-4959-42f5-a206-694c40fafb31.jpg</td>\n",
       "      <td>Small bowel_terminal ileum</td>\n",
       "      <td>1920</td>\n",
       "      <td>1072</td>\n",
       "      <td>410.71</td>\n",
       "    </tr>\n",
       "    <tr>\n",
       "      <th>2</th>\n",
       "      <td>0f886d51-8576-4208-a850-98aefb696241.jpg</td>\n",
       "      <td>Small bowel_terminal ileum</td>\n",
       "      <td>720</td>\n",
       "      <td>576</td>\n",
       "      <td>168.493</td>\n",
       "    </tr>\n",
       "    <tr>\n",
       "      <th>3</th>\n",
       "      <td>142df188-9742-4bce-a38a-792d312c65bf.jpg</td>\n",
       "      <td>Small bowel_terminal ileum</td>\n",
       "      <td>768</td>\n",
       "      <td>576</td>\n",
       "      <td>160.546</td>\n",
       "    </tr>\n",
       "    <tr>\n",
       "      <th>4</th>\n",
       "      <td>820228e5-df1a-4bba-a583-a9ca63cae865.jpg</td>\n",
       "      <td>Small bowel_terminal ileum</td>\n",
       "      <td>768</td>\n",
       "      <td>576</td>\n",
       "      <td>295.395</td>\n",
       "    </tr>\n",
       "  </tbody>\n",
       "</table>\n",
       "</div>"
      ],
      "text/plain": [
       "                                   Filename                       Class  \\\n",
       "0                                  Filename                       Class   \n",
       "1  1a8df39f-4959-42f5-a206-694c40fafb31.jpg  Small bowel_terminal ileum   \n",
       "2  0f886d51-8576-4208-a850-98aefb696241.jpg  Small bowel_terminal ileum   \n",
       "3  142df188-9742-4bce-a38a-792d312c65bf.jpg  Small bowel_terminal ileum   \n",
       "4  820228e5-df1a-4bba-a583-a9ca63cae865.jpg  Small bowel_terminal ileum   \n",
       "\n",
       "   Width  Height  Size (kB)  \n",
       "0  Width  Height  Size (kB)  \n",
       "1   1920    1072     410.71  \n",
       "2    720     576    168.493  \n",
       "3    768     576    160.546  \n",
       "4    768     576    295.395  "
      ]
     },
     "execution_count": 23,
     "metadata": {},
     "output_type": "execute_result"
    }
   ],
   "source": [
    "df.head()"
   ]
  },
  {
   "cell_type": "code",
   "execution_count": 25,
   "metadata": {},
   "outputs": [
    {
     "name": "stdout",
     "output_type": "stream",
     "text": [
      "Label Mapping: {'Accessory tools': 0, 'Angiectasia': 1, \"Barrett's esophagus\": 2, 'Blood in lumen': 3, 'Cecum': 4, 'Class': 5, 'Colon diverticula': 6, 'Colon polyps': 7, 'Colorectal cancer': 8, 'Duodenal bulb': 9, 'Dyed-lifted-polyps': 10, 'Dyed-resection-margins': 11, 'Erythema': 12, 'Esophageal varices': 13, 'Esophagitis': 14, 'Gastric polyps': 15, 'Gastroesophageal_junction_normal z-line': 16, 'Ileocecal valve': 17, 'Mucosal inflammation large bowel': 18, 'Normal esophagus': 19, 'Normal mucosa and vascular pattern in the large bowel': 20, 'Normal stomach': 21, 'Pylorus': 22, 'Resected polyps': 23, 'Resection margins': 24, 'Retroflex rectum': 25, 'Small bowel_terminal ileum': 26, 'Ulcer': 27}\n"
     ]
    }
   ],
   "source": [
    "from sklearn.preprocessing import LabelEncoder\n",
    "label_encoder = LabelEncoder()\n",
    "df[\"Label\"] = label_encoder.fit_transform(df[\"Class\"])  # Convert text to numbers\n",
    "label_map = dict(zip(label_encoder.classes_, label_encoder.transform(label_encoder.classes_)))\n",
    "print(\"Label Mapping:\", label_map)\n"
   ]
  },
  {
   "cell_type": "code",
   "execution_count": 27,
   "metadata": {},
   "outputs": [
    {
     "data": {
      "text/html": [
       "<div>\n",
       "<style scoped>\n",
       "    .dataframe tbody tr th:only-of-type {\n",
       "        vertical-align: middle;\n",
       "    }\n",
       "\n",
       "    .dataframe tbody tr th {\n",
       "        vertical-align: top;\n",
       "    }\n",
       "\n",
       "    .dataframe thead th {\n",
       "        text-align: right;\n",
       "    }\n",
       "</style>\n",
       "<table border=\"1\" class=\"dataframe\">\n",
       "  <thead>\n",
       "    <tr style=\"text-align: right;\">\n",
       "      <th></th>\n",
       "      <th>Filename</th>\n",
       "      <th>Class</th>\n",
       "      <th>Width</th>\n",
       "      <th>Height</th>\n",
       "      <th>Size (kB)</th>\n",
       "      <th>Label</th>\n",
       "    </tr>\n",
       "  </thead>\n",
       "  <tbody>\n",
       "    <tr>\n",
       "      <th>0</th>\n",
       "      <td>Filename</td>\n",
       "      <td>Class</td>\n",
       "      <td>Width</td>\n",
       "      <td>Height</td>\n",
       "      <td>Size (kB)</td>\n",
       "      <td>5</td>\n",
       "    </tr>\n",
       "    <tr>\n",
       "      <th>1</th>\n",
       "      <td>1a8df39f-4959-42f5-a206-694c40fafb31.jpg</td>\n",
       "      <td>Small bowel_terminal ileum</td>\n",
       "      <td>1920</td>\n",
       "      <td>1072</td>\n",
       "      <td>410.71</td>\n",
       "      <td>26</td>\n",
       "    </tr>\n",
       "    <tr>\n",
       "      <th>2</th>\n",
       "      <td>0f886d51-8576-4208-a850-98aefb696241.jpg</td>\n",
       "      <td>Small bowel_terminal ileum</td>\n",
       "      <td>720</td>\n",
       "      <td>576</td>\n",
       "      <td>168.493</td>\n",
       "      <td>26</td>\n",
       "    </tr>\n",
       "    <tr>\n",
       "      <th>3</th>\n",
       "      <td>142df188-9742-4bce-a38a-792d312c65bf.jpg</td>\n",
       "      <td>Small bowel_terminal ileum</td>\n",
       "      <td>768</td>\n",
       "      <td>576</td>\n",
       "      <td>160.546</td>\n",
       "      <td>26</td>\n",
       "    </tr>\n",
       "    <tr>\n",
       "      <th>4</th>\n",
       "      <td>820228e5-df1a-4bba-a583-a9ca63cae865.jpg</td>\n",
       "      <td>Small bowel_terminal ileum</td>\n",
       "      <td>768</td>\n",
       "      <td>576</td>\n",
       "      <td>295.395</td>\n",
       "      <td>26</td>\n",
       "    </tr>\n",
       "  </tbody>\n",
       "</table>\n",
       "</div>"
      ],
      "text/plain": [
       "                                   Filename                       Class  \\\n",
       "0                                  Filename                       Class   \n",
       "1  1a8df39f-4959-42f5-a206-694c40fafb31.jpg  Small bowel_terminal ileum   \n",
       "2  0f886d51-8576-4208-a850-98aefb696241.jpg  Small bowel_terminal ileum   \n",
       "3  142df188-9742-4bce-a38a-792d312c65bf.jpg  Small bowel_terminal ileum   \n",
       "4  820228e5-df1a-4bba-a583-a9ca63cae865.jpg  Small bowel_terminal ileum   \n",
       "\n",
       "   Width  Height  Size (kB)  Label  \n",
       "0  Width  Height  Size (kB)      5  \n",
       "1   1920    1072     410.71     26  \n",
       "2    720     576    168.493     26  \n",
       "3    768     576    160.546     26  \n",
       "4    768     576    295.395     26  "
      ]
     },
     "execution_count": 27,
     "metadata": {},
     "output_type": "execute_result"
    }
   ],
   "source": [
    "df.head()"
   ]
  },
  {
   "cell_type": "code",
   "execution_count": 89,
   "metadata": {},
   "outputs": [
    {
     "data": {
      "image/png": "[encoded data removed]",
      "text/plain": [
       "<Figure size 1200x600 with 1 Axes>"
      ]
     },
     "metadata": {},
     "output_type": "display_data"
    }
   ],
   "source": [
    "from collections import Counter\n",
    "import seaborn as sns\n",
    "import matplotlib.pyplot as plt\n",
    "label_counts = Counter(y)\n",
    "\n",
    "plt.figure(figsize=(12, 6))\n",
    "sns.barplot(x=list(label_counts.keys()), y=list(label_counts.values()), palette=\"viridis\")\n",
    "plt.xticks(rotation=45)\n",
    "plt.xlabel(\"Disease Class\")\n",
    "plt.ylabel(\"Number of Images\")\n",
    "plt.title(\"Class Distribution of Preprocessed Images\")\n",
    "plt.show()\n"
   ]
  },
  {
   "cell_type": "code",
   "execution_count": 84,
   "metadata": {},
   "outputs": [
    {
     "name": "stdout",
     "output_type": "stream",
     "text": [
      "Image Data Shape: (2453, 224, 224, 3)\n",
      "Labels Shape: (2453,)\n"
     ]
    }
   ],
   "source": [
    "import cv2\n",
    "import numpy as np\n",
    "\n",
    "def load_and_preprocess_image(filename, class_folder):\n",
    "    img_path = class_folder + \"\\\\\" + filename\n",
    "    if not os.path.exists(img_path):\n",
    "        return None  # Skip if file not found\n",
    "    img = cv2.imread(img_path)  # Load image\n",
    "    img = cv2.cvtColor(img, cv2.COLOR_BGR2RGB)  # Convert BGR to RGB\n",
    "    img = cv2.resize(img, (224, 224))  # Resize to 224x224\n",
    "    img = img / 255.0  # Normalize to [0,1]\n",
    "    return img\n",
    "image_data = []\n",
    "labels = []\n",
    "\n",
    "for i, row in df.iterrows():\n",
    "    img_path = f\"../../../data/raw/gastrovision/{row['Class']}\"\n",
    "    img_path = os.path.abspath(img_path)\n",
    "    img = load_and_preprocess_image(row[\"Filename\"], img_path)\n",
    "    if img is not None:\n",
    "        image_data.append(img)\n",
    "        labels.append(row[\"Label\"])\n",
    "\n",
    "X = np.array(image_data)  # Store images as NumPy array\n",
    "y = np.array(labels)  # Store labels as array\n",
    "\n",
    "print(\"Image Data Shape:\", X.shape)  # (num_images, 224, 224, 3)\n",
    "print(\"Labels Shape:\", y.shape)  # (num_images,)"
   ]
  },
  {
   "cell_type": "code",
   "execution_count": 91,
   "metadata": {},
   "outputs": [
    {
     "name": "stdout",
     "output_type": "stream",
     "text": [
      "Preprocessed images saved successfully!\n"
     ]
    }
   ],
   "source": [
    "import os\n",
    "import cv2\n",
    "\n",
    "# Define paths\n",
    "processed_dir = \"../../../data/processed/gastrovision/\"  # Adjust path if needed\n",
    "\n",
    "# Create directories if they don't exist\n",
    "for class_folder in df[\"Class\"].unique():\n",
    "    os.makedirs(os.path.join(processed_dir, class_folder), exist_ok=True)\n",
    "\n",
    "# Function to save preprocessed images\n",
    "def save_preprocessed_image(img, filename, class_folder):\n",
    "    save_path = os.path.join(processed_dir, class_folder, filename)\n",
    "    img = (img * 255).astype(\"uint8\")  # Convert back to 0-255 range\n",
    "    cv2.imwrite(save_path, cv2.cvtColor(img, cv2.COLOR_RGB2BGR))  # Convert RGB to BGR for OpenCV\n",
    "\n",
    "# Save images\n",
    "for i, row in df.iterrows():\n",
    "    img_path = f\"../../../data/raw/gastrovision/{row['Class']}\"\n",
    "    img_path = os.path.abspath(img_path)\n",
    "    img = load_and_preprocess_image(row[\"Filename\"], img_path)\n",
    "    if img is not None:\n",
    "        save_preprocessed_image(img, row[\"Filename\"], img_path)\n",
    "\n",
    "print(\"Preprocessed images saved successfully!\")\n"
   ]
  },
  {
   "cell_type": "code",
   "execution_count": null,
   "metadata": {},
   "outputs": [],
   "source": []
  },
  {
   "cell_type": "code",
   "execution_count": null,
   "metadata": {},
   "outputs": [],
   "source": []
  }
 ],
 "metadata": {
  "kernelspec": {
   "display_name": "Python 3 (ipykernel)",
   "language": "python",
   "name": "python3"
  },
  "language_info": {
   "codemirror_mode": {
    "name": "ipython",
    "version": 3
   },
   "file_extension": ".py",
   "mimetype": "text/x-python",
   "name": "python",
   "nbconvert_exporter": "python",
   "pygments_lexer": "ipython3",
   "version": "3.11.4"
  }
 },
 "nbformat": 4,
 "nbformat_minor": 4
}
